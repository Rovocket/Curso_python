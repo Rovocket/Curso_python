{
  "nbformat": 4,
  "nbformat_minor": 0,
  "metadata": {
    "colab": {
      "name": "Tareatema3.ipynb",
      "provenance": [],
      "authorship_tag": "ABX9TyMBt9Gmy53wIMNsmOOLb8hF",
      "include_colab_link": true
    },
    "kernelspec": {
      "name": "python3",
      "display_name": "Python 3"
    }
  },
  "cells": [
    {
      "cell_type": "markdown",
      "metadata": {
        "id": "view-in-github",
        "colab_type": "text"
      },
      "source": [
        "<a href=\"https://colab.research.google.com/github/Rovocket/Curso_python/blob/main/Tareatema3.ipynb\" target=\"_parent\"><img src=\"https://colab.research.google.com/assets/colab-badge.svg\" alt=\"Open In Colab\"/></a>"
      ]
    },
    {
      "cell_type": "code",
      "metadata": {
        "id": "U8R8g9eB3Ug0",
        "colab": {
          "base_uri": "https://localhost:8080/"
        },
        "outputId": "bb47a209-c8a6-47cb-8d2c-3a8a845d3bf8"
      },
      "source": [
        "IG1=input('ID_gen1: ')\r\n",
        "O1=input('Organismo1: ')\r\n",
        "L1=input('Linaje1: ')\r\n",
        "S1=input('Secuenciagen1: ')\r\n",
        "print('')\r\n",
        "IG2=input('ID_gen2: ')\r\n",
        "O2=input('Organismo2: ')\r\n",
        "L2=input('Linaje2: ')\r\n",
        "S2=input('Secuenciagen2: ')\r\n",
        "print('')\r\n",
        "IG3=input('ID_gen3: ')\r\n",
        "O3=input('Organismo3: ')\r\n",
        "L3=input('Linaje3: ')\r\n",
        "S3=input('Secuenciagen3: ')\r\n",
        "print('')\r\n",
        "IG4=input('ID_gen4: ')\r\n",
        "O4=input('Organismo4: ')\r\n",
        "L4=input('Linaje4: ')\r\n",
        "S4=input('Secuenciagen4: ')\r\n",
        "print('')\r\n",
        "\r\n",
        "Genoteca = [\r\n",
        "{'ID_gen1':IG1,\r\n",
        "'Organismo1':O1,\r\n",
        "'Linaje1':L1,\r\n",
        "'Secuenciagen1':S1\r\n",
        "},\r\n",
        "{\r\n",
        "'ID_gen2':IG2,\r\n",
        "'Organismo2':O2,\r\n",
        "'Linaje2':L2,\r\n",
        "'Secuenciagen2':S2\r\n",
        "},\r\n",
        "{\r\n",
        "'ID_gen3':IG3,\r\n",
        "'Organismo3':O3,\r\n",
        "'Linaje3':L3,\r\n",
        "'Secuenciagen3':S3\r\n",
        "},\r\n",
        "{\r\n",
        "'ID_gen4':IG4,\r\n",
        "'Organismo4':O4,\r\n",
        "'Linaje4':L4,\r\n",
        "'Secuenciagen4':S4\r\n",
        "},]\r\n",
        "\r\n",
        "For1=input('Forwards1: ')\r\n",
        "Rev1=input('Reverses1: ')\r\n",
        "print('')\r\n",
        "For2=input('Forwards2: ')\r\n",
        "Rev2=input('Reverses2: ')\r\n",
        "print('')\r\n",
        "For3=input('Forwards3: ')\r\n",
        "Rev3=input('Reverses3: ')\r\n",
        "print('')\r\n",
        "For4=input('Forwards4: ')\r\n",
        "Rev4=input('Reverses4: ')\r\n",
        "\r\n",
        "Genoteca[0].update({'Primer_sequences':For1})\r\n",
        "Genoteca[0].update({'Primer_Sequences':Rev1})\r\n",
        "Genoteca[1].update({'Primer_Sequences':For2})\r\n",
        "Genoteca[1].update({'Primer_Sequences':Rev2})\r\n",
        "Genoteca[2].update({'Primer_Sequences':For3})\r\n",
        "Genoteca[2].update({'Primer_Sequences':Rev3})\r\n",
        "Genoteca[3].update({'Primer_Sequences':For4})\r\n",
        "Genoteca[3].update({'Primer_Sequences':Rev4})\r\n",
        "\r\n",
        "print(Genoteca)\r\n"
      ],
      "execution_count": 5,
      "outputs": [
        {
          "output_type": "stream",
          "text": [
            "ID_gen1: 4924862\n",
            "Organismo1: Procyon lotor\n",
            "Linaje1: Eucariota\n",
            "Secuenciagen1: CTTGGGCTGGAATAGTGGGCACCGCTCTCAGCCTACTAATTCGTGCTGAGTTAGGTCAACCGGGTACTTT ATTAGGAGATGATCAGATTTACAATGTAATCGTAACTGCCCATGCTTTCGTAATAATCTTTTTCATAGTT ATACCAATCATGATTGGAGGATTCGGTAACTGGCTAGTACCTCTTATAATTGGAGCACCTGACATAGCTT TCCCACGAATAAATAATATAAGCTTTTGACTTCTACCACCATCATTCCTACTATTACTAGCATCATCCAT AGTAGAAGCAGGAGCAGGAACCGGATGAACCGTATATCCTCCTTTAGCAGGTAACCTAGCACATGCAGGA GCATCCGTGGACCTCACCATCTTCTCCCTTCACCTTGCAGGCGTCTCGTCCATCTTAGGTGCCATCAACT TCATCACCACTATTATTAACATGAAACCCCCCGCTATATCCCAATACCAAATCCCACTTTTTGTATGGTC AGTACTTATTACAGCAGTACTTCTCT\n",
            "\n",
            "ID_gen2: 18490276\n",
            "Organismo2: Carcharias taurus\n",
            "Linaje2: Eucariota\n",
            "Secuenciagen2: ATGGCCATTAATATCCGAAAAACTCACCCACTACTAAAAATCGTAAATCAAATCCTAATTGACCTCCCAG CCCCATCAAACATTTCTATCTGATGAAATTTTGGC\n",
            "\n",
            "ID_gen3: 1956\n",
            "Organismo3: Homo sapiens\n",
            "Linaje3: Eucariota\n",
            "Secuenciagen3: AGACGTCCGGGCAGCCCCCGGCGCAGCGCGGCCGCAGCAGCCTCCGCCCCCCGCACGGTGTGAGCGCCCG ACGCGGCCGAGGCGGCCGGAGTCCCGAGCTAGCCCCGGCGGCCGCCGCCGCCCAGACCGGACGACAGGCC ACCTCGTCGGCGTCCGCCC\n",
            "\n",
            "ID_gen4: 544051\n",
            "Organismo4: Solanum lycopersicum\n",
            "Linaje4: Eucariota\n",
            "Secuenciagen4: TTCAATAGACAAGTTTAAAAACCATACCATATAAC\n",
            "\n",
            "Forwards1: CCCCGCACGGTGTGAGCGCCCG\n",
            "Reverses1: TCAAATCCTAATTGACCTCCCAG\n",
            "\n",
            "Forwards2: CTGAGTTAGGTCAACCGGGTACTTT\n",
            "Reverses2: AATAGTGGGCACCGCTCTCAGCCTAC\n",
            "\n",
            "Forwards3: TGATCAGATTTACAATGTAATCGTA\n",
            "Reverses3: AACATTTCTATCTGATGAAATTTTGGC\n",
            "\n",
            "Forwards4: AAAACCATACCATATAAC\n",
            "Reverses4: CCTACTAATTCGTGCTGAG\n",
            "[{'ID_gen1': '4924862', 'Organismo1': 'Procyon lotor', 'Linaje1': 'Eucariota', 'Secuenciagen1': 'CTTGGGCTGGAATAGTGGGCACCGCTCTCAGCCTACTAATTCGTGCTGAGTTAGGTCAACCGGGTACTTT ATTAGGAGATGATCAGATTTACAATGTAATCGTAACTGCCCATGCTTTCGTAATAATCTTTTTCATAGTT ATACCAATCATGATTGGAGGATTCGGTAACTGGCTAGTACCTCTTATAATTGGAGCACCTGACATAGCTT TCCCACGAATAAATAATATAAGCTTTTGACTTCTACCACCATCATTCCTACTATTACTAGCATCATCCAT AGTAGAAGCAGGAGCAGGAACCGGATGAACCGTATATCCTCCTTTAGCAGGTAACCTAGCACATGCAGGA GCATCCGTGGACCTCACCATCTTCTCCCTTCACCTTGCAGGCGTCTCGTCCATCTTAGGTGCCATCAACT TCATCACCACTATTATTAACATGAAACCCCCCGCTATATCCCAATACCAAATCCCACTTTTTGTATGGTC AGTACTTATTACAGCAGTACTTCTCT', 'Primer_sequences': 'CCCCGCACGGTGTGAGCGCCCG', 'Primer_Sequences': 'TCAAATCCTAATTGACCTCCCAG'}, {'ID_gen2': '18490276', 'Organismo2': 'Carcharias taurus', 'Linaje2': 'Eucariota', 'Secuenciagen2': 'ATGGCCATTAATATCCGAAAAACTCACCCACTACTAAAAATCGTAAATCAAATCCTAATTGACCTCCCAG CCCCATCAAACATTTCTATCTGATGAAATTTTGGC', 'Primer_Sequences': 'AATAGTGGGCACCGCTCTCAGCCTAC'}, {'ID_gen3': '1956', 'Organismo3': 'Homo sapiens', 'Linaje3': 'Eucariota', 'Secuenciagen3': 'AGACGTCCGGGCAGCCCCCGGCGCAGCGCGGCCGCAGCAGCCTCCGCCCCCCGCACGGTGTGAGCGCCCG ACGCGGCCGAGGCGGCCGGAGTCCCGAGCTAGCCCCGGCGGCCGCCGCCGCCCAGACCGGACGACAGGCC ACCTCGTCGGCGTCCGCCC', 'Primer_Sequences': 'AACATTTCTATCTGATGAAATTTTGGC'}, {'ID_gen4': '544051', 'Organismo4': 'Solanum lycopersicum', 'Linaje4': 'Eucariota', 'Secuenciagen4': 'TTCAATAGACAAGTTTAAAAACCATACCATATAAC', 'Primer_Sequences': 'CCTACTAATTCGTGCTGAG'}]\n"
          ],
          "name": "stdout"
        }
      ]
    },
    {
      "cell_type": "code",
      "metadata": {
        "id": "7duQUPTFc69r"
      },
      "source": [
        ""
      ],
      "execution_count": null,
      "outputs": []
    }
  ]
}

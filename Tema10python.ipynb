{
  "nbformat": 4,
  "nbformat_minor": 0,
  "metadata": {
    "colab": {
      "name": "Tema10python.ipynb",
      "provenance": [],
      "authorship_tag": "ABX9TyMQM5Bfsc4RPuQ0BQ/0wgKI",
      "include_colab_link": true
    },
    "kernelspec": {
      "name": "python3",
      "display_name": "Python 3"
    }
  },
  "cells": [
    {
      "cell_type": "markdown",
      "metadata": {
        "id": "view-in-github",
        "colab_type": "text"
      },
      "source": [
        "<a href=\"https://colab.research.google.com/github/Rovocket/Curso_python/blob/main/Tema10python.ipynb\" target=\"_parent\"><img src=\"https://colab.research.google.com/assets/colab-badge.svg\" alt=\"Open In Colab\"/></a>"
      ]
    },
    {
      "cell_type": "code",
      "metadata": {
        "id": "AGVMNkOcek-n"
      },
      "source": [
        "#Archivos\r\n",
        "\r\n",
        "#ejemplo.txt\r\n",
        "\r\n",
        "file = open('ejemplo.txt','w')\r\n",
        "file.write('Contenido a escribir')\r\n",
        "file.close()\r\n",
        "\r\n",
        "#'r' : Por defecto, para leer el fichero.\r\n",
        "#'w' : Para escribir en el fichero.\r\n",
        "#'x' : Para la creación, fallando si ya existe.\r\n",
        "#'a' : Para añadir contenido a un fichero existente.\r\n",
        "#'b' : Para abrir en modo binario."
      ],
      "execution_count": 2,
      "outputs": []
    },
    {
      "cell_type": "code",
      "metadata": {
        "colab": {
          "base_uri": "https://localhost:8080/"
        },
        "id": "8txvBTKehESh",
        "outputId": "90afe838-1936-468d-e9f8-48b75f4a75c5"
      },
      "source": [
        "file = open('ejemplo.txt','r')\r\n",
        "\r\n",
        "print(file.readline(9))"
      ],
      "execution_count": 7,
      "outputs": [
        {
          "output_type": "stream",
          "text": [
            "Contenido\n"
          ],
          "name": "stdout"
        }
      ]
    },
    {
      "cell_type": "code",
      "metadata": {
        "id": "aq_b9jevhYDg"
      },
      "source": [
        "lista = ['Manzana\\n', 'Pera\\n', 'Platano\\n']\r\n",
        "with open('ejemplo.txt', 'w') as file:\r\n",
        "    file.writelines(lista)"
      ],
      "execution_count": 8,
      "outputs": []
    },
    {
      "cell_type": "code",
      "metadata": {
        "colab": {
          "base_uri": "https://localhost:8080/"
        },
        "id": "myxDPbKUh7eY",
        "outputId": "37a9282b-3a31-4371-c234-1f36a75b7f33"
      },
      "source": [
        "with open('ejemplo.txt', 'r') as stop_words:\r\n",
        "    lineas = [linea.strip() for linea in stop_words]\r\n",
        "\r\n",
        "for linea in lineas:\r\n",
        "    print(linea)\r\n",
        "\r\n",
        "stop_words.close()"
      ],
      "execution_count": 9,
      "outputs": [
        {
          "output_type": "stream",
          "text": [
            "Manzana\n",
            "Pera\n",
            "Platano\n"
          ],
          "name": "stdout"
        }
      ]
    },
    {
      "cell_type": "markdown",
      "metadata": {
        "id": "KsUZuK8ilQxJ"
      },
      "source": [
        "**Tarea del tema 10**\r\n",
        "\r\n",
        "Hacer una lista de coordenadas en diferentes lineas \\n, leer las lineas y guardar cada numero en una lista y cada par de numeros en una lista."
      ]
    },
    {
      "cell_type": "code",
      "metadata": {
        "id": "R_q1eSCKl9O1"
      },
      "source": [
        "file = open('example.txt','w')\r\n",
        "ManhattanP = [\"(34,23)\\n\", \"(132,25)\\n\", \"(32,47)\\n\", \"(129,52)\\n\"]\r\n",
        "file.writelines(ManhattanP)\r\n",
        "file.close()\r\n"
      ],
      "execution_count": 37,
      "outputs": []
    },
    {
      "cell_type": "code",
      "metadata": {
        "colab": {
          "base_uri": "https://localhost:8080/"
        },
        "id": "DLG-U7Flvov5",
        "outputId": "00bb5dc5-f17d-48f5-cfe0-cb4fc6b9970e"
      },
      "source": [
        "file = open('example.txt','r')\r\n",
        "\r\n",
        "print(file.read)"
      ],
      "execution_count": 38,
      "outputs": [
        {
          "output_type": "stream",
          "text": [
            "<built-in method read of _io.TextIOWrapper object at 0x7fb806b60b40>\n"
          ],
          "name": "stdout"
        }
      ]
    },
    {
      "cell_type": "code",
      "metadata": {
        "colab": {
          "base_uri": "https://localhost:8080/"
        },
        "id": "5lIRsYZAv_bz",
        "outputId": "a4f284d1-6688-44ec-c193-38b00daa6ce3"
      },
      "source": [
        "with open('example.txt', 'r') as stw:\r\n",
        "    lineas = [linea.strip() for linea in stw]\r\n",
        "\r\n",
        "    for linea in lineas:\r\n",
        "      print(linea)\r\n",
        "\r\n",
        "stop_words.close()"
      ],
      "execution_count": 41,
      "outputs": [
        {
          "output_type": "stream",
          "text": [
            "(34,23)\n",
            "(132,25)\n",
            "(32,47)\n",
            "(129,52)\n"
          ],
          "name": "stdout"
        }
      ]
    }
  ]
}
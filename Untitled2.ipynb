{
  "nbformat": 4,
  "nbformat_minor": 0,
  "metadata": {
    "colab": {
      "name": "Untitled2.ipynb",
      "provenance": [],
      "authorship_tag": "ABX9TyPPhgyB5G4LvBXL+SCwFqt1",
      "include_colab_link": true
    },
    "kernelspec": {
      "name": "python3",
      "display_name": "Python 3"
    }
  },
  "cells": [
    {
      "cell_type": "markdown",
      "metadata": {
        "id": "view-in-github",
        "colab_type": "text"
      },
      "source": [
        "<a href=\"https://colab.research.google.com/github/Rovocket/Curso_python/blob/main/Untitled2.ipynb\" target=\"_parent\"><img src=\"https://colab.research.google.com/assets/colab-badge.svg\" alt=\"Open In Colab\"/></a>"
      ]
    },
    {
      "cell_type": "code",
      "metadata": {
        "colab": {
          "base_uri": "https://localhost:8080/"
        },
        "id": "elJkcBgkFq1o",
        "outputId": "ccd7d275-93dd-4a45-8738-082ef66488bb"
      },
      "source": [
        "#Presentacion de sistema\r\n",
        "print(\"Bienvenido al sistema, necesitaremos recopilar algunos datos,\")\r\n",
        "\r\n",
        "#Recopilación de datos\r\n",
        "M_1 = input(\"¿Cuál es tu primer nombre? \")\r\n",
        "M_2 = input(\"Perfecto,¿Cuál es tu segundo nombre? \")\r\n",
        "M_3 = input(\"Ya falta poco,¿Cuál es tu apellido paterno? \")\r\n",
        "M_4 = input(\"Muy bien ahora,¿Cuál es tu apellido materno? \")\r\n",
        "M_total = M_1 +\" \"+ M_2 +\" \"+ M_3 +\" \"+ M_4\r\n",
        "\r\n",
        "#Comprobación de datos\r\n",
        "print(M_total)\r\n",
        "Comprobación = input(\"¿El nombre es correcto? \")"
      ],
      "execution_count": 30,
      "outputs": [
        {
          "output_type": "stream",
          "text": [
            "Bienvenido al sistema, necesitaremos recopilar algunos datos,\n",
            "¿Cuál es tu primer nombre? José\n",
            "Perfecto,¿Cuál es tu segundo nombre? María\n",
            "Ya falta poco,¿Cuál es tu apellido paterno? García\n",
            "Muy bien ahora,¿Cuál es tu apellido materno? González\n",
            "José María García González\n",
            "¿El nombre es correcto? si\n"
          ],
          "name": "stdout"
        }
      ]
    }
  ]
}
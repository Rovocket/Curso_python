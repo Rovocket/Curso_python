{
  "nbformat": 4,
  "nbformat_minor": 0,
  "metadata": {
    "colab": {
      "name": "Tema7.ipynb",
      "provenance": [],
      "authorship_tag": "ABX9TyPeO9Ht9cnXSHL2DH86IG2l",
      "include_colab_link": true
    },
    "kernelspec": {
      "name": "python3",
      "display_name": "Python 3"
    }
  },
  "cells": [
    {
      "cell_type": "markdown",
      "metadata": {
        "id": "view-in-github",
        "colab_type": "text"
      },
      "source": [
        "<a href=\"https://colab.research.google.com/github/Rovocket/Curso_python/blob/main/Tema7.ipynb\" target=\"_parent\"><img src=\"https://colab.research.google.com/assets/colab-badge.svg\" alt=\"Open In Colab\"/></a>"
      ]
    },
    {
      "cell_type": "code",
      "metadata": {
        "colab": {
          "base_uri": "https://localhost:8080/"
        },
        "id": "QHUZqF_KhJfi",
        "outputId": "c8701f9d-f7a3-445c-8314-f7fd891d8afa"
      },
      "source": [
        "#Condicionales\r\n",
        "print('Bienvenido a club penguin')\r\n",
        "print(' ')\r\n",
        "\r\n",
        "edad = 19\r\n",
        "\r\n",
        "print('Tienes ' + str(edad) + ' años')\r\n",
        "\r\n",
        "if edad <= 18: \r\n",
        "  print('Necesitas permiso de tus padres')\r\n",
        "\r\n",
        "else: #Se pone para poner la decision a tomar en caso false\r\n",
        "    print('Puedes crear la cuenta')"
      ],
      "execution_count": null,
      "outputs": [
        {
          "output_type": "stream",
          "text": [
            "Bienvenido a club penguin\n",
            " \n",
            "Tienes 19 años\n",
            "Puedes crear la cuenta\n"
          ],
          "name": "stdout"
        }
      ]
    },
    {
      "cell_type": "code",
      "metadata": {
        "colab": {
          "base_uri": "https://localhost:8080/"
        },
        "id": "Xv4JprKLjCCi",
        "outputId": "b5872ea7-4e9a-4f83-fe30-5769922e5490"
      },
      "source": [
        "#Condicionales\r\n",
        "calificacion = 8\r\n",
        "if calificacion == 7:\r\n",
        "  print('Felicidades pero puedes mejorar')\r\n",
        "\r\n",
        "elif calificacion == 8: #elif se pone cuando se va a poner una segunda o tercera condicion en el programa\r\n",
        "  print('Felicidades estas mas cerca del 10')\r\n",
        "elif calificacion == 9:\r\n",
        "  print('Felicidades falto poco para el 10')\r\n",
        "elif calificacion == 10:\r\n",
        "  print('Felicidades tienes 10')\r\n",
        "else:\r\n",
        "  print('Suerte en la proxima')"
      ],
      "execution_count": null,
      "outputs": [
        {
          "output_type": "stream",
          "text": [
            "Felicidades estas mas cerca del 10\n"
          ],
          "name": "stdout"
        }
      ]
    },
    {
      "cell_type": "code",
      "metadata": {
        "colab": {
          "base_uri": "https://localhost:8080/"
        },
        "id": "eRH4MxsckPRT",
        "outputId": "d15611d0-95ef-4034-84fd-34587ad3b819"
      },
      "source": [
        "#Condicionales\r\n",
        "\r\n",
        "Camara = True\r\n",
        "Microfono = False\r\n",
        "\r\n",
        "if Camara == True and Microfono == True: #Puede usarse and o or\r\n",
        "  print('Puedes grabar')\r\n",
        "else:\r\n",
        "    print('No puedes grabar')"
      ],
      "execution_count": null,
      "outputs": [
        {
          "output_type": "stream",
          "text": [
            "No puedes grabar\n"
          ],
          "name": "stdout"
        }
      ]
    },
    {
      "cell_type": "markdown",
      "metadata": {
        "id": "IuNhhRSKq6Qx"
      },
      "source": [
        "TAREA **CONDICIONALES**"
      ]
    },
    {
      "cell_type": "code",
      "metadata": {
        "colab": {
          "base_uri": "https://localhost:8080/"
        },
        "id": "kOwRSXBCoKf_",
        "outputId": "82c1e725-d28a-4e36-8a0e-007a7eb64bbb"
      },
      "source": [
        "#TAREA Condionales \r\n",
        "\r\n",
        "Carne = 'Doble triple'\r\n",
        "Salsa = 'De coral'\r\n",
        "Decorado = 'De lujo'\r\n",
        "Estilo = \"Animal\"\r\n",
        "Guijarros = 'Extra'\r\n",
        "Vibracion = 'Exprimida'\r\n",
        "Eje = 'Con grasa ligera'\r\n",
        "Hazlo = 'Llorar'\r\n",
        "Quemalo = 'Si'\r\n",
        "Nadando = 'Si'\r\n",
        "Pepinillos = 'Si'\r\n",
        "\r\n",
        "if (Carne == 'Doble triple' and\r\n",
        "Salsa == 'De coral' and\r\n",
        "Decorado == 'De lujo'and\r\n",
        "Estilo == \"Animal\" and\r\n",
        "Guijarros == \"Extra\" and\r\n",
        "Vibracion == 'Exprimida' and\r\n",
        "Eje == \"Con grasa ligera\" and\r\n",
        "Hazlo == 'Llorar' and\r\n",
        "Quemalo == 'Si' and\r\n",
        "Nadando == 'Si' or\r\n",
        "Pepinillos == 'No'):\r\n",
        "  print('Quiere la hamburguesa')\r\n",
        "else:\r\n",
        "  print('No quiere la hamburguesa')\r\n"
      ],
      "execution_count": 4,
      "outputs": [
        {
          "output_type": "stream",
          "text": [
            "Quiere la hamburguesa\n"
          ],
          "name": "stdout"
        }
      ]
    }
  ]
}
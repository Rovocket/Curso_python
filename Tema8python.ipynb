{
  "nbformat": 4,
  "nbformat_minor": 0,
  "metadata": {
    "colab": {
      "name": "Tema8python.ipynb",
      "provenance": [],
      "collapsed_sections": [],
      "authorship_tag": "ABX9TyPnBIaAgR1JvHndENVZecr8",
      "include_colab_link": true
    },
    "kernelspec": {
      "name": "python3",
      "display_name": "Python 3"
    }
  },
  "cells": [
    {
      "cell_type": "markdown",
      "metadata": {
        "id": "view-in-github",
        "colab_type": "text"
      },
      "source": [
        "<a href=\"https://colab.research.google.com/github/Rovocket/Curso_python/blob/main/Tema8python.ipynb\" target=\"_parent\"><img src=\"https://colab.research.google.com/assets/colab-badge.svg\" alt=\"Open In Colab\"/></a>"
      ]
    },
    {
      "cell_type": "code",
      "metadata": {
        "colab": {
          "base_uri": "https://localhost:8080/"
        },
        "id": "TL38gTmrTMrK",
        "outputId": "b8ffcb0f-c77c-4d9e-b4d4-30e8bc2c287f"
      },
      "source": [
        "#Un ciclo es un codigo que se repite varias veces hasta que se deja de cumplir una condición\r\n",
        "#Iteración: es el numero de veces que se ha repetido el ciclo\r\n",
        "\r\n",
        "#Ciclo while\r\n",
        "\r\n",
        "#Solicitar un numero par al usuario\r\n",
        "\r\n",
        "Numero = int( input('Ingresa un numero par ') )\r\n",
        "\r\n",
        "while Numero  % 2  != 0: \r\n",
        "  Numero = int( input('¡Dije que ingresaras un numero par!') )\r\n",
        "\r\n",
        "  print('El numero par es: ', Numero)\r\n"
      ],
      "execution_count": null,
      "outputs": [
        {
          "output_type": "stream",
          "text": [
            "Ingresa un numero par 5\n",
            "¡Dije que ingresaras un numero par!6\n",
            "El numero par es:  6\n"
          ],
          "name": "stdout"
        }
      ]
    },
    {
      "cell_type": "code",
      "metadata": {
        "colab": {
          "base_uri": "https://localhost:8080/"
        },
        "id": "BhLMvQ-wWY4P",
        "outputId": "ae960850-b5a5-49d1-fccc-648b15058107"
      },
      "source": [
        "#Imprimiendo numeros del 1 al 5\r\n",
        "\r\n",
        "i = 1 \r\n",
        "while i <= 5: \r\n",
        "  print(i)\r\n",
        "\r\n",
        "  i += 1"
      ],
      "execution_count": null,
      "outputs": [
        {
          "output_type": "stream",
          "text": [
            "1\n",
            "2\n",
            "3\n",
            "4\n",
            "5\n"
          ],
          "name": "stdout"
        }
      ]
    },
    {
      "cell_type": "code",
      "metadata": {
        "id": "d8DY49wJW8s4",
        "colab": {
          "base_uri": "https://localhost:8080/"
        },
        "outputId": "31bdf8b8-b384-4ec9-d77f-368b547082af"
      },
      "source": [
        "#Ciclo for\r\n",
        "\r\n",
        "#Ciclo donde el numero de iteraciones normalmente es conocido\r\n",
        "#la variable i toma un valor de la lista en cada iteracion\r\n",
        "\r\n",
        "#Ej. Imprimir numeros del 1 al 5\r\n",
        "\r\n",
        "for i in [1,2,3,4,5]:\r\n",
        "  print(i)"
      ],
      "execution_count": null,
      "outputs": [
        {
          "output_type": "stream",
          "text": [
            "1\n",
            "2\n",
            "3\n",
            "4\n",
            "5\n"
          ],
          "name": "stdout"
        }
      ]
    },
    {
      "cell_type": "code",
      "metadata": {
        "colab": {
          "base_uri": "https://localhost:8080/"
        },
        "id": "qWOCCq3P05Q0",
        "outputId": "e72e1b6b-640f-4322-c296-690088a0e788"
      },
      "source": [
        "#Funcion range: crea un arreglo de numeros\r\n",
        "# range(Inicio, Termino(uno antes), Incremento)\r\n",
        "# range(num) el arreglo va desde cero hasta num - 1 de uno en uno\r\n",
        "\r\n",
        "y = range(0,12,1)\r\n",
        "print(list(y) )\r\n",
        "\r\n",
        "#Sumatoria de los elementos en x\r\n",
        "x = [1,2,3,4,5]\r\n",
        "Suma = 0\r\n",
        "\r\n",
        "for i in x:\r\n",
        "  Suma = Suma + i\r\n",
        "\r\n",
        "print(Suma)\r\n",
        "\r\n",
        "#Sumando de una forma diferente\r\n",
        "\r\n",
        "Suma2 = 0\r\n",
        "for i in range(5):\r\n",
        "  Suma2 += x[i]\r\n",
        "\r\n",
        "print(Suma2)"
      ],
      "execution_count": null,
      "outputs": [
        {
          "output_type": "stream",
          "text": [
            "[0, 1, 2, 3, 4, 5, 6, 7, 8, 9, 10, 11]\n",
            "15\n",
            "15\n"
          ],
          "name": "stdout"
        }
      ]
    },
    {
      "cell_type": "code",
      "metadata": {
        "colab": {
          "base_uri": "https://localhost:8080/"
        },
        "id": "dZDiSlh033Fk",
        "outputId": "f7f5401b-691a-4e28-9824-59e3b0114b4d"
      },
      "source": [
        "x = [5,4,3,2,1]\r\n",
        "\r\n",
        "tamaño = len(x)\r\n",
        "\r\n",
        "print('El tamaño de la lista es: ', tamaño)\r\n",
        "\r\n",
        "\r\n",
        "for i in range(tamaño):\r\n",
        "\r\n",
        "  if x[i] == 4:\r\n",
        "\r\n",
        "    print('El numero 4 esta en la posicion',i)\r\n",
        "    break\r\n",
        "\r\n",
        "print('El numero de iteraciones fue: ', i + 1)"
      ],
      "execution_count": null,
      "outputs": [
        {
          "output_type": "stream",
          "text": [
            "El tamaño de la lista es:  5\n",
            "El numero 4 esta en la posicion 1\n",
            "El numero de iteraciones fue:  2\n"
          ],
          "name": "stdout"
        }
      ]
    },
    {
      "cell_type": "markdown",
      "metadata": {
        "id": "nN0jzVDS7L3-"
      },
      "source": [
        "**Tarea del Tema 8**"
      ]
    },
    {
      "cell_type": "code",
      "metadata": {
        "colab": {
          "base_uri": "https://localhost:8080/"
        },
        "id": "Z3LZ7z_O7GeN",
        "outputId": "e67bc787-395a-4a74-9fbf-67c2fead050f"
      },
      "source": [
        "A = [ [2,8,5],[6,7,6],[3,4,5] ]\r\n",
        "print(A)\r\n",
        "\r\n",
        "print(3*A[0][0])\r\n",
        "\r\n"
      ],
      "execution_count": null,
      "outputs": [
        {
          "output_type": "stream",
          "text": [
            "[[2, 8, 5], [6, 7, 6], [3, 4, 5]]\n",
            "6\n"
          ],
          "name": "stdout"
        }
      ]
    },
    {
      "cell_type": "code",
      "metadata": {
        "colab": {
          "base_uri": "https://localhost:8080/"
        },
        "id": "m1xNBgh5hHmc",
        "outputId": "4a7f1f05-3593-4c90-9625-582823fcc201"
      },
      "source": [
        "A = [ [2,8,5],[6,7,6],[3,4,5] ]\r\n",
        "B = A\r\n",
        "print(A)\r\n",
        "print(B)\r\n",
        "\r\n",
        "for i in range(3):\r\n",
        "  for o in range(3):\r\n",
        "    B[i][o] =5*A[i][o]\r\n",
        "\r\n",
        "print(B)"
      ],
      "execution_count": 3,
      "outputs": [
        {
          "output_type": "stream",
          "text": [
            "[[2, 8, 5], [6, 7, 6], [3, 4, 5]]\n",
            "[[2, 8, 5], [6, 7, 6], [3, 4, 5]]\n",
            "[[10, 40, 25], [30, 35, 30], [15, 20, 25]]\n"
          ],
          "name": "stdout"
        }
      ]
    }
  ]
}